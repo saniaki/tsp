{
 "cells": [
  {
   "cell_type": "code",
   "execution_count": null,
   "metadata": {},
   "outputs": [],
   "source": [
    "import csv\n",
    "import time\n",
    "import numpy as np\n",
    "import copy\n",
    "import math\n",
    "from math import inf\n",
    "import matplotlib.pyplot as plt\n",
    "from IPython.display import clear_output"
   ]
  },
  {
   "cell_type": "code",
   "execution_count": null,
   "metadata": {},
   "outputs": [],
   "source": [
    "def cities_dist(d,i,j):\n",
    "    '''\n",
    "    This functionsfinds distance between two cities\n",
    "    \n",
    "    Inputs: \n",
    "            i,j: cities number\n",
    "            \n",
    "    Outputs:\n",
    "            dist: distance between cities i and j\n",
    "    '''\n",
    "    \n",
    "    i_x = d[i-1][1]\n",
    "    i_y = d[i-1][2] \n",
    "    j_x = d[j-1][1]\n",
    "    j_y = d[j-1][2]\n",
    "    \n",
    "    dist = math.sqrt((i_x-j_x)**2 + (i_y-j_y)**2)\n",
    "    \n",
    "    return dist"
   ]
  },
  {
   "cell_type": "code",
   "execution_count": null,
   "metadata": {},
   "outputs": [],
   "source": [
    "def plot_TSP(Cities,G):\n",
    "    \n",
    "    '''\n",
    "    This function plots all cities visited in orders in TSP problem and reports the total distance\n",
    "    of the tour in TSP problem\n",
    "    \n",
    "    Inputs:\n",
    "            Cities: a list of all cities ordered from last to 1 which are visited.\n",
    "            \n",
    "    Outputs:\n",
    "            a plot of the path traveled between cities with the length of each edge.\n",
    "            \n",
    "            tot_dist: the total distance of the tour in TSP problem.\n",
    "    \n",
    "    '''\n",
    "    tot_dist = 0\n",
    "    plt.figure(figsize=(15,10))\n",
    "    for i in range(len(Cities)-1):\n",
    "        first_point = Cities[i]\n",
    "        second_point = Cities[i+1]\n",
    "        \n",
    "        first_point_x = G[first_point-1][1]\n",
    "        first_point_y = G[first_point-1][2]\n",
    "        \n",
    "        second_point_x = G[second_point-1][1]\n",
    "        second_point_y = G[second_point-1][2]\n",
    "        \n",
    "        x_values = [first_point_x, second_point_x]\n",
    "        y_values = [first_point_y, second_point_y]\n",
    "        \n",
    "        plt.plot(x_values, y_values)\n",
    "        plt.text(first_point_x, first_point_y, str(first_point))\n",
    "        \n",
    "        # distance between first_point and second_point\n",
    "        dist = cities_dist(G,first_point,second_point)\n",
    "        # puting distance as a text on the middle of the edge\n",
    "        mid_x = 0.5 * (first_point_x+second_point_x)\n",
    "        mid_y = 0.5 * (first_point_y+second_point_y)\n",
    "        plt.text(mid_x, mid_y, str(round(dist,2)), color='green')\n",
    "        tot_dist += dist # to check total travel distance\n",
    "    \n",
    "    \n",
    "    # to draw last edge (from last vortex to 1)\n",
    "    first_point = Cities[-1]\n",
    "    second_point = Cities[0]\n",
    "    first_point_x = d[first_point-1][1]\n",
    "    first_point_y = d[first_point-1][2]\n",
    "\n",
    "    second_point_x = G[second_point-1][1]\n",
    "    second_point_y = G[second_point-1][2]\n",
    "\n",
    "    x_values = [first_point_x, second_point_x]\n",
    "    y_values = [first_point_y, second_point_y]\n",
    "\n",
    "    plt.plot(x_values, y_values)\n",
    "    plt.text(first_point_x, first_point_y, str(first_point))\n",
    "\n",
    "    # distance between first_point and second_point\n",
    "    dist = cities_dist(G,first_point,second_point)\n",
    "    # puting distance as a text on the middle of the edge\n",
    "    mid_x = 0.5 * (first_point_x+second_point_x)\n",
    "    mid_y = 0.5 * (first_point_y+second_point_y)\n",
    "    plt.text(mid_x, mid_y, str(round(dist,2)), color='green')\n",
    "    tot_dist += dist # to check total travel distance\n",
    "    \n",
    "    return tot_dist"
   ]
  },
  {
   "cell_type": "code",
   "execution_count": 4,
   "metadata": {},
   "outputs": [],
   "source": [
    "def tsp_heuristic(d):\n",
    "    \n",
    "    n = len(d)\n",
    "    first_city = d[0][0] # city 1 if d is sorted based on cities numbers\n",
    "    remained_cities = copy.deepcopy(d)\n",
    "    remained_cities.remove(d[0])\n",
    "    current_city = first_city\n",
    "    total_travel_length = 0\n",
    "    tsp = [current_city]\n",
    "\n",
    "\n",
    "    while len(remained_cities) > 0:\n",
    "        min_value = inf\n",
    "        for i in remained_cities:\n",
    "            city_distance = cities_dist(d,current_city,i[0])\n",
    "            if city_distance < min_value:\n",
    "                min_value = city_distance\n",
    "                closest_city = i[0] # closest city number\n",
    "                \n",
    "        total_travel_length +=  min_value\n",
    "        tsp.append(closest_city)\n",
    "        remained_cities.remove(d[closest_city-1]) # remove closest city from remanied_cities\n",
    "        current_city= closest_city # current city number for the next iteration\n",
    "        progress = round((n-len(remained_cities))/n * 100,2)\n",
    "        print('progeress (%): {}'.format(progress))\n",
    "        clear_output(wait=True)\n",
    "        \n",
    "    tsp.append(first_city)\n",
    "    city_distance = cities_dist(d,closest_city,first_city)\n",
    "    total_travel_length += city_distance\n",
    "    \n",
    "    return tsp, total_travel_length"
   ]
  },
  {
   "cell_type": "markdown",
   "metadata": {},
   "source": [
    "### Examples"
   ]
  },
  {
   "cell_type": "code",
   "execution_count": 8,
   "metadata": {},
   "outputs": [
    {
     "name": "stdout",
     "output_type": "stream",
     "text": [
      "############    tsp_heuristic without x trick   ############\n",
      "############################################################\n",
      "############################################################\n",
      "\n",
      " __________Total travel length is:________________\n",
      "15.23606797749979\n",
      "\n",
      " __________Visited cities in order (from city 1) is:________________\n",
      "[1, 3, 2, 5, 6, 4, 1]\n",
      "\n",
      " ______The shortest tour to travel has length of (from the figure to double check):_________\n",
      "15.23606797749979\n",
      "\n",
      " --- 0.019946575164794922 seconds ---\n"
     ]
    },
    {
     "data": {
      "image/png": "[encoded data removed]",
      "text/plain": [
       "<Figure size 1080x720 with 1 Axes>"
      ]
     },
     "metadata": {
      "needs_background": "light"
     },
     "output_type": "display_data"
    }
   ],
   "source": [
    "# reading the input file as a list\n",
    "with open('Test_01_15.24.txt') as f:\n",
    "    reader = csv.reader(f, delimiter=\" \")\n",
    "    d = list(reader)\n",
    "\n",
    "n  = int(d[0][0]) # n is number of cities\n",
    "d.pop(0)\n",
    "\n",
    "d = [[int(i[0]),float(i[1]),float(i[2])] for i in d] # convert d into integers\n",
    "\n",
    "start_time = time.time()\n",
    "tsp, total_travel_length = tsp_heuristic(d)\n",
    "print('############    tsp_heuristic without x trick   ############')\n",
    "print('############################################################')\n",
    "print('############################################################')\n",
    "print('\\n __________Total travel length is:________________')\n",
    "print(total_travel_length)\n",
    "print('\\n __________Visited cities in order (from city 1) is:________________')\n",
    "print(tsp)\n",
    "print('\\n ______The shortest tour to travel has length of (from the figure to double check):_________')\n",
    "tot_dist = plot_TSP(tsp,d)\n",
    "print(tot_dist)\n",
    "\n",
    "print(\"\\n --- %s seconds ---\" % (time.time() - start_time))"
   ]
  },
  {
   "cell_type": "code",
   "execution_count": 9,
   "metadata": {},
   "outputs": [
    {
     "name": "stdout",
     "output_type": "stream",
     "text": [
      "############    tsp_heuristic without x trick   ############\n",
      "############################################################\n",
      "############################################################\n",
      "\n",
      " __________Total travel length is:________________\n",
      "1203406.5012708856\n",
      "\n",
      " --- 439.8239834308624 seconds ---\n"
     ]
    }
   ],
   "source": [
    "# reading the input file as a list\n",
    "with open('nn.txt') as f:\n",
    "    reader = csv.reader(f, delimiter=\" \")\n",
    "    d = list(reader)\n",
    "\n",
    "n  = int(d[0][0]) # n is number of cities\n",
    "d.pop(0)\n",
    "\n",
    "d = [[int(i[0]),float(i[1]),float(i[2])] for i in d] # convert d into integers\n",
    "\n",
    "start_time = time.time()\n",
    "tsp, total_travel_length = tsp_heuristic(d)\n",
    "print('############    tsp_heuristic without x trick   ############')\n",
    "print('############################################################')\n",
    "print('############################################################')\n",
    "print('\\n __________Total travel length is:________________')\n",
    "print(total_travel_length)\n",
    "# print('\\n __________Visited cities in order (from city 1) is:________________')\n",
    "# print(tsp)\n",
    "# print('\\n ______The shortest tour to travel has length of (from the figure to double check):_________')\n",
    "# tot_dist = plot_TSP(tsp,d)\n",
    "# print(tot_dist)\n",
    "\n",
    "print(\"\\n --- %s seconds ---\" % (time.time() - start_time))"
   ]
  },
  {
   "cell_type": "code",
   "execution_count": null,
   "metadata": {},
   "outputs": [],
   "source": []
  }
 ],
 "metadata": {
  "kernelspec": {
   "display_name": "Python 3",
   "language": "python",
   "name": "python3"
  },
  "language_info": {
   "codemirror_mode": {
    "name": "ipython",
    "version": 3
   },
   "file_extension": ".py",
   "mimetype": "text/x-python",
   "name": "python",
   "nbconvert_exporter": "python",
   "pygments_lexer": "ipython3",
   "version": "3.7.4"
  }
 },
 "nbformat": 4,
 "nbformat_minor": 2
}
